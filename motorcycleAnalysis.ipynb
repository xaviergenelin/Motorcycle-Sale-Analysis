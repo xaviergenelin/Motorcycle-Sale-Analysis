{
 "cells": [
  {
   "cell_type": "markdown",
   "id": "25c6a669-3285-46e4-800c-77715334cd03",
   "metadata": {},
   "source": [
    "# Motorcycle Analysis  \n",
    "\n",
    "## Introduction  "
   ]
  },
  {
   "cell_type": "markdown",
   "id": "0a383ec6-f18a-4097-986b-cca497925af3",
   "metadata": {},
   "source": [
    "In this program we'll be examining the motorcycle data set found at [kaggle.com](https://www.kaggle.com/nehalbirla/motorcycle-dataset?select=BIKE+DETAILS.csv). The variables in the data set are:  \n",
    "- `name` (of motorcycle)  \n",
    "- `selling price`   \n",
    "- `year` (of motorcycle, not sale)  \n",
    "- `seller_type`  \n",
    "- `owner` (# of owners)  \n",
    "- `km_driven`  \n",
    "- `ex_showroom_price`  \n",
    "\n",
    "The variable of interest that we'll be examining is `seller_type`. The first section of this document will include some exploratory data analysis such as numerical and graphical summaries. Then we'll implement some algorithms to explore parameters that provide the lowest variance when predicting `selling price` with and without the presence of the predictor variable `km_driven`. We will do this using both the **Grid Search Method** and the **Gradient Descent Method**.  \n",
    "\n",
    "The modules/packages we'll need are as follows:  \n",
    "- `pandas` : necessary for reading in data, working with series and data frames, tables, and graphing \n",
    "- `NumPy` : full of powerful mathematical functions as well as ways to create arrays and matrices  \n",
    "- `matplotlib.pyplot` : useful for graphical plotting with a lot of flexibility  \n",
    "- `math` : mathematical functions  "
   ]
  },
  {
   "cell_type": "code",
   "execution_count": 1,
   "id": "428b41ed-7c23-4973-bc7d-003f0001e1d3",
   "metadata": {},
   "outputs": [],
   "source": [
    "import pandas as pd \n",
    "import numpy as np \n",
    "import matplotlib.pyplot as plt\n",
    "from math import sqrt"
   ]
  },
  {
   "cell_type": "markdown",
   "id": "7a26a1fa-0cdf-4660-96fc-9cce5896dfd5",
   "metadata": {},
   "source": [
    "View a snippet of the data below.  "
   ]
  },
  {
   "cell_type": "code",
   "execution_count": 2,
   "id": "ef31a5cb-7b88-4be8-a84c-a646909a65f3",
   "metadata": {},
   "outputs": [
    {
     "data": {
      "text/html": [
       "<div>\n",
       "<style scoped>\n",
       "    .dataframe tbody tr th:only-of-type {\n",
       "        vertical-align: middle;\n",
       "    }\n",
       "\n",
       "    .dataframe tbody tr th {\n",
       "        vertical-align: top;\n",
       "    }\n",
       "\n",
       "    .dataframe thead th {\n",
       "        text-align: right;\n",
       "    }\n",
       "</style>\n",
       "<table border=\"1\" class=\"dataframe\">\n",
       "  <thead>\n",
       "    <tr style=\"text-align: right;\">\n",
       "      <th></th>\n",
       "      <th>name</th>\n",
       "      <th>selling_price</th>\n",
       "      <th>year</th>\n",
       "      <th>seller_type</th>\n",
       "      <th>owner</th>\n",
       "      <th>km_driven</th>\n",
       "      <th>ex_showroom_price</th>\n",
       "    </tr>\n",
       "  </thead>\n",
       "  <tbody>\n",
       "    <tr>\n",
       "      <th>0</th>\n",
       "      <td>Royal Enfield Classic 350</td>\n",
       "      <td>175000</td>\n",
       "      <td>2019</td>\n",
       "      <td>Individual</td>\n",
       "      <td>1st owner</td>\n",
       "      <td>350</td>\n",
       "      <td>NaN</td>\n",
       "    </tr>\n",
       "    <tr>\n",
       "      <th>1</th>\n",
       "      <td>Honda Dio</td>\n",
       "      <td>45000</td>\n",
       "      <td>2017</td>\n",
       "      <td>Individual</td>\n",
       "      <td>1st owner</td>\n",
       "      <td>5650</td>\n",
       "      <td>NaN</td>\n",
       "    </tr>\n",
       "    <tr>\n",
       "      <th>2</th>\n",
       "      <td>Royal Enfield Classic Gunmetal Grey</td>\n",
       "      <td>150000</td>\n",
       "      <td>2018</td>\n",
       "      <td>Individual</td>\n",
       "      <td>1st owner</td>\n",
       "      <td>12000</td>\n",
       "      <td>148114.0</td>\n",
       "    </tr>\n",
       "    <tr>\n",
       "      <th>3</th>\n",
       "      <td>Yamaha Fazer FI V 2.0 [2016-2018]</td>\n",
       "      <td>65000</td>\n",
       "      <td>2015</td>\n",
       "      <td>Individual</td>\n",
       "      <td>1st owner</td>\n",
       "      <td>23000</td>\n",
       "      <td>89643.0</td>\n",
       "    </tr>\n",
       "    <tr>\n",
       "      <th>4</th>\n",
       "      <td>Yamaha SZ [2013-2014]</td>\n",
       "      <td>20000</td>\n",
       "      <td>2011</td>\n",
       "      <td>Individual</td>\n",
       "      <td>2nd owner</td>\n",
       "      <td>21000</td>\n",
       "      <td>NaN</td>\n",
       "    </tr>\n",
       "  </tbody>\n",
       "</table>\n",
       "</div>"
      ],
      "text/plain": [
       "                                  name  selling_price  year seller_type  \\\n",
       "0            Royal Enfield Classic 350         175000  2019  Individual   \n",
       "1                            Honda Dio          45000  2017  Individual   \n",
       "2  Royal Enfield Classic Gunmetal Grey         150000  2018  Individual   \n",
       "3    Yamaha Fazer FI V 2.0 [2016-2018]          65000  2015  Individual   \n",
       "4                Yamaha SZ [2013-2014]          20000  2011  Individual   \n",
       "\n",
       "       owner  km_driven  ex_showroom_price  \n",
       "0  1st owner        350                NaN  \n",
       "1  1st owner       5650                NaN  \n",
       "2  1st owner      12000           148114.0  \n",
       "3  1st owner      23000            89643.0  \n",
       "4  2nd owner      21000                NaN  "
      ]
     },
     "execution_count": 2,
     "metadata": {},
     "output_type": "execute_result"
    }
   ],
   "source": [
    "# read in the data \n",
    "df = pd.read_csv('bikeDetails.csv')\n",
    "df.head(5)"
   ]
  },
  {
   "cell_type": "markdown",
   "id": "93c3a320-1bee-485a-b0d2-d57ee575a313",
   "metadata": {
    "tags": []
   },
   "source": [
    "## Exploratory Data Analysis"
   ]
  },
  {
   "cell_type": "markdown",
   "id": "5c31af64-7323-45b7-bfda-b399f0570063",
   "metadata": {},
   "source": [
    "First we'll create summary tables and graphs to examine variables of interest and their relationships.  "
   ]
  },
  {
   "cell_type": "code",
   "execution_count": 3,
   "id": "f9b9710f-e8ea-4c4a-9bd0-2d1684551877",
   "metadata": {},
   "outputs": [
    {
     "data": {
      "text/plain": [
       "min         5000.000000\n",
       "mean       59638.151744\n",
       "median     45000.000000\n",
       "max       760000.000000\n",
       "std        56304.291973\n",
       "Name: selling_price, dtype: float64"
      ]
     },
     "execution_count": 3,
     "metadata": {},
     "output_type": "execute_result"
    }
   ],
   "source": [
    "# overall summaries of selling price\n",
    "df['selling_price'].agg(['min', 'mean', 'median', 'max', 'std'])"
   ]
  },
  {
   "cell_type": "markdown",
   "id": "c9e0a52f-52a4-4bca-a7b4-e77ad77ec9d7",
   "metadata": {},
   "source": [
    "The table below summarizes the `selling_price` variable for each level of `owner`. The mean selling price is consistently much higher than the median selling price, presumably because there are a few observations that have unusually high values of `selling_price`. I also noticed that the highest mean and median values are for motorcycles sold by 1st and 3rd owners. In addition, the standard deviation of the selling prices are large.  "
   ]
  },
  {
   "cell_type": "code",
   "execution_count": 4,
   "id": "bb54d6ff-dec5-4685-80fd-744fcabe5ced",
   "metadata": {},
   "outputs": [
    {
     "data": {
      "text/html": [
       "<div>\n",
       "<style scoped>\n",
       "    .dataframe tbody tr th:only-of-type {\n",
       "        vertical-align: middle;\n",
       "    }\n",
       "\n",
       "    .dataframe tbody tr th {\n",
       "        vertical-align: top;\n",
       "    }\n",
       "\n",
       "    .dataframe thead tr th {\n",
       "        text-align: left;\n",
       "    }\n",
       "\n",
       "    .dataframe thead tr:last-of-type th {\n",
       "        text-align: right;\n",
       "    }\n",
       "</style>\n",
       "<table border=\"1\" class=\"dataframe\">\n",
       "  <thead>\n",
       "    <tr>\n",
       "      <th></th>\n",
       "      <th>mean</th>\n",
       "      <th>median</th>\n",
       "      <th>std</th>\n",
       "    </tr>\n",
       "    <tr>\n",
       "      <th></th>\n",
       "      <th>selling_price</th>\n",
       "      <th>selling_price</th>\n",
       "      <th>selling_price</th>\n",
       "    </tr>\n",
       "    <tr>\n",
       "      <th>owner</th>\n",
       "      <th></th>\n",
       "      <th></th>\n",
       "      <th></th>\n",
       "    </tr>\n",
       "  </thead>\n",
       "  <tbody>\n",
       "    <tr>\n",
       "      <th>1st owner</th>\n",
       "      <td>60022.813853</td>\n",
       "      <td>45000</td>\n",
       "      <td>51542.569711</td>\n",
       "    </tr>\n",
       "    <tr>\n",
       "      <th>2nd owner</th>\n",
       "      <td>55666.658537</td>\n",
       "      <td>32000</td>\n",
       "      <td>81671.923395</td>\n",
       "    </tr>\n",
       "    <tr>\n",
       "      <th>3rd owner</th>\n",
       "      <td>55727.272727</td>\n",
       "      <td>45000</td>\n",
       "      <td>38385.129697</td>\n",
       "    </tr>\n",
       "    <tr>\n",
       "      <th>4th owner</th>\n",
       "      <td>118333.333333</td>\n",
       "      <td>15000</td>\n",
       "      <td>183325.757419</td>\n",
       "    </tr>\n",
       "  </tbody>\n",
       "</table>\n",
       "</div>"
      ],
      "text/plain": [
       "                    mean        median            std\n",
       "           selling_price selling_price  selling_price\n",
       "owner                                                \n",
       "1st owner   60022.813853         45000   51542.569711\n",
       "2nd owner   55666.658537         32000   81671.923395\n",
       "3rd owner   55727.272727         45000   38385.129697\n",
       "4th owner  118333.333333         15000  183325.757419"
      ]
     },
     "execution_count": 4,
     "metadata": {},
     "output_type": "execute_result"
    }
   ],
   "source": [
    "# summary of selling price grouped by number of owners\n",
    "pd.pivot_table(df, values = [\"selling_price\"],\n",
    "               index = \"owner\", \n",
    "               aggfunc = [\"mean\", \"median\", \"std\"]) "
   ]
  },
  {
   "cell_type": "markdown",
   "id": "4d06096c-fa3a-440f-8ede-973514a7364f",
   "metadata": {},
   "source": [
    "Below we've converted the numeric variables of `year` and `km_driven` to categorical variables `age_class` and `mileage`, respectively, adding the new variables to the data set.  "
   ]
  },
  {
   "cell_type": "code",
   "execution_count": 5,
   "id": "fd2faeea-0a87-405c-aca3-62260b2c79e4",
   "metadata": {},
   "outputs": [
    {
     "data": {
      "text/html": [
       "<div>\n",
       "<style scoped>\n",
       "    .dataframe tbody tr th:only-of-type {\n",
       "        vertical-align: middle;\n",
       "    }\n",
       "\n",
       "    .dataframe tbody tr th {\n",
       "        vertical-align: top;\n",
       "    }\n",
       "\n",
       "    .dataframe thead th {\n",
       "        text-align: right;\n",
       "    }\n",
       "</style>\n",
       "<table border=\"1\" class=\"dataframe\">\n",
       "  <thead>\n",
       "    <tr style=\"text-align: right;\">\n",
       "      <th></th>\n",
       "      <th>name</th>\n",
       "      <th>selling_price</th>\n",
       "      <th>year</th>\n",
       "      <th>age_class</th>\n",
       "      <th>seller_type</th>\n",
       "      <th>owner</th>\n",
       "      <th>mileage</th>\n",
       "      <th>km_driven</th>\n",
       "      <th>ex_showroom_price</th>\n",
       "    </tr>\n",
       "  </thead>\n",
       "  <tbody>\n",
       "    <tr>\n",
       "      <th>0</th>\n",
       "      <td>Royal Enfield Classic 350</td>\n",
       "      <td>175000</td>\n",
       "      <td>2019</td>\n",
       "      <td>2011-2020</td>\n",
       "      <td>Individual</td>\n",
       "      <td>1st owner</td>\n",
       "      <td>0-24,999</td>\n",
       "      <td>350</td>\n",
       "      <td>NaN</td>\n",
       "    </tr>\n",
       "    <tr>\n",
       "      <th>1</th>\n",
       "      <td>Honda Dio</td>\n",
       "      <td>45000</td>\n",
       "      <td>2017</td>\n",
       "      <td>2011-2020</td>\n",
       "      <td>Individual</td>\n",
       "      <td>1st owner</td>\n",
       "      <td>0-24,999</td>\n",
       "      <td>5650</td>\n",
       "      <td>NaN</td>\n",
       "    </tr>\n",
       "    <tr>\n",
       "      <th>2</th>\n",
       "      <td>Royal Enfield Classic Gunmetal Grey</td>\n",
       "      <td>150000</td>\n",
       "      <td>2018</td>\n",
       "      <td>2011-2020</td>\n",
       "      <td>Individual</td>\n",
       "      <td>1st owner</td>\n",
       "      <td>0-24,999</td>\n",
       "      <td>12000</td>\n",
       "      <td>148114.0</td>\n",
       "    </tr>\n",
       "    <tr>\n",
       "      <th>3</th>\n",
       "      <td>Yamaha Fazer FI V 2.0 [2016-2018]</td>\n",
       "      <td>65000</td>\n",
       "      <td>2015</td>\n",
       "      <td>2011-2020</td>\n",
       "      <td>Individual</td>\n",
       "      <td>1st owner</td>\n",
       "      <td>0-24,999</td>\n",
       "      <td>23000</td>\n",
       "      <td>89643.0</td>\n",
       "    </tr>\n",
       "    <tr>\n",
       "      <th>4</th>\n",
       "      <td>Yamaha SZ [2013-2014]</td>\n",
       "      <td>20000</td>\n",
       "      <td>2011</td>\n",
       "      <td>2000-2010</td>\n",
       "      <td>Individual</td>\n",
       "      <td>2nd owner</td>\n",
       "      <td>0-24,999</td>\n",
       "      <td>21000</td>\n",
       "      <td>NaN</td>\n",
       "    </tr>\n",
       "  </tbody>\n",
       "</table>\n",
       "</div>"
      ],
      "text/plain": [
       "                                  name  selling_price  year  age_class  \\\n",
       "0            Royal Enfield Classic 350         175000  2019  2011-2020   \n",
       "1                            Honda Dio          45000  2017  2011-2020   \n",
       "2  Royal Enfield Classic Gunmetal Grey         150000  2018  2011-2020   \n",
       "3    Yamaha Fazer FI V 2.0 [2016-2018]          65000  2015  2011-2020   \n",
       "4                Yamaha SZ [2013-2014]          20000  2011  2000-2010   \n",
       "\n",
       "  seller_type      owner   mileage  km_driven  ex_showroom_price  \n",
       "0  Individual  1st owner  0-24,999        350                NaN  \n",
       "1  Individual  1st owner  0-24,999       5650                NaN  \n",
       "2  Individual  1st owner  0-24,999      12000           148114.0  \n",
       "3  Individual  1st owner  0-24,999      23000            89643.0  \n",
       "4  Individual  2nd owner  0-24,999      21000                NaN  "
      ]
     },
     "execution_count": 5,
     "metadata": {},
     "output_type": "execute_result"
    }
   ],
   "source": [
    "# convert selected numeric variables to categorical  \n",
    "age_class = pd.cut(df.year, \n",
    "                   bins = [1988,2000,2011,2021], \n",
    "                   labels = [\"1999 or older\", \"2000-2010\", \"2011-2020\"])\n",
    "\n",
    "df.insert(3, \"age_class\", age_class)\n",
    "\n",
    "mileage = pd.cut(df.km_driven, \n",
    "                 bins = [0,25000,50000,75000,100000,150000,1000000], \n",
    "                 labels = [\"0-24,999\", \"25,000-49,999\", \"50,000-74,999\",\"75,000-99,999\", \"100,000-149,999\", \"150,000 +\"])\n",
    "\n",
    "df.insert(6, \"mileage\", mileage)\n",
    "\n",
    "df.owner = pd.Categorical(df.owner)\n",
    "\n",
    "df.head()"
   ]
  },
  {
   "cell_type": "markdown",
   "id": "aa788042-bafd-4ff6-8973-20205e99f663",
   "metadata": {},
   "source": [
    "The table below summarizes `selling price` by `age_class` and `mileage`. It's clear from the table that `selling price` generally decreases as `mileage` and `age_class` increase.  "
   ]
  },
  {
   "cell_type": "code",
   "execution_count": 6,
   "id": "b03d9405-7fb1-4af0-a848-64e9be63d884",
   "metadata": {},
   "outputs": [
    {
     "data": {
      "text/html": [
       "<div>\n",
       "<style scoped>\n",
       "    .dataframe tbody tr th:only-of-type {\n",
       "        vertical-align: middle;\n",
       "    }\n",
       "\n",
       "    .dataframe tbody tr th {\n",
       "        vertical-align: top;\n",
       "    }\n",
       "\n",
       "    .dataframe thead tr th {\n",
       "        text-align: left;\n",
       "    }\n",
       "\n",
       "    .dataframe thead tr:last-of-type th {\n",
       "        text-align: right;\n",
       "    }\n",
       "</style>\n",
       "<table border=\"1\" class=\"dataframe\">\n",
       "  <thead>\n",
       "    <tr>\n",
       "      <th></th>\n",
       "      <th></th>\n",
       "      <th>mean</th>\n",
       "      <th>median</th>\n",
       "      <th>std</th>\n",
       "    </tr>\n",
       "    <tr>\n",
       "      <th></th>\n",
       "      <th></th>\n",
       "      <th>selling_price</th>\n",
       "      <th>selling_price</th>\n",
       "      <th>selling_price</th>\n",
       "    </tr>\n",
       "    <tr>\n",
       "      <th>age_class</th>\n",
       "      <th>mileage</th>\n",
       "      <th></th>\n",
       "      <th></th>\n",
       "      <th></th>\n",
       "    </tr>\n",
       "  </thead>\n",
       "  <tbody>\n",
       "    <tr>\n",
       "      <th rowspan=\"4\" valign=\"top\">1999 or older</th>\n",
       "      <th>0-24,999</th>\n",
       "      <td>73333.333333</td>\n",
       "      <td>67500</td>\n",
       "      <td>57590.508477</td>\n",
       "    </tr>\n",
       "    <tr>\n",
       "      <th>25,000-49,999</th>\n",
       "      <td>13200.000000</td>\n",
       "      <td>10000</td>\n",
       "      <td>7328.028384</td>\n",
       "    </tr>\n",
       "    <tr>\n",
       "      <th>50,000-74,999</th>\n",
       "      <td>10000.000000</td>\n",
       "      <td>10000</td>\n",
       "      <td>5000.000000</td>\n",
       "    </tr>\n",
       "    <tr>\n",
       "      <th>150,000 +</th>\n",
       "      <td>10000.000000</td>\n",
       "      <td>10000</td>\n",
       "      <td>NaN</td>\n",
       "    </tr>\n",
       "    <tr>\n",
       "      <th rowspan=\"6\" valign=\"top\">2000-2010</th>\n",
       "      <th>0-24,999</th>\n",
       "      <td>39481.113208</td>\n",
       "      <td>25000</td>\n",
       "      <td>44039.970066</td>\n",
       "    </tr>\n",
       "    <tr>\n",
       "      <th>25,000-49,999</th>\n",
       "      <td>30055.339806</td>\n",
       "      <td>25000</td>\n",
       "      <td>22602.662207</td>\n",
       "    </tr>\n",
       "    <tr>\n",
       "      <th>50,000-74,999</th>\n",
       "      <td>24060.000000</td>\n",
       "      <td>23250</td>\n",
       "      <td>12241.388533</td>\n",
       "    </tr>\n",
       "    <tr>\n",
       "      <th>75,000-99,999</th>\n",
       "      <td>18985.185185</td>\n",
       "      <td>20000</td>\n",
       "      <td>7210.446679</td>\n",
       "    </tr>\n",
       "    <tr>\n",
       "      <th>100,000-149,999</th>\n",
       "      <td>19625.000000</td>\n",
       "      <td>20500</td>\n",
       "      <td>9250.000000</td>\n",
       "    </tr>\n",
       "    <tr>\n",
       "      <th>150,000 +</th>\n",
       "      <td>24250.000000</td>\n",
       "      <td>21000</td>\n",
       "      <td>11354.147554</td>\n",
       "    </tr>\n",
       "    <tr>\n",
       "      <th rowspan=\"6\" valign=\"top\">2011-2020</th>\n",
       "      <th>0-24,999</th>\n",
       "      <td>84022.411523</td>\n",
       "      <td>62000</td>\n",
       "      <td>70237.078691</td>\n",
       "    </tr>\n",
       "    <tr>\n",
       "      <th>25,000-49,999</th>\n",
       "      <td>49259.067511</td>\n",
       "      <td>42000</td>\n",
       "      <td>25788.351522</td>\n",
       "    </tr>\n",
       "    <tr>\n",
       "      <th>50,000-74,999</th>\n",
       "      <td>39798.000000</td>\n",
       "      <td>39000</td>\n",
       "      <td>14026.192554</td>\n",
       "    </tr>\n",
       "    <tr>\n",
       "      <th>75,000-99,999</th>\n",
       "      <td>39133.333333</td>\n",
       "      <td>40000</td>\n",
       "      <td>19485.770144</td>\n",
       "    </tr>\n",
       "    <tr>\n",
       "      <th>100,000-149,999</th>\n",
       "      <td>25000.000000</td>\n",
       "      <td>25000</td>\n",
       "      <td>NaN</td>\n",
       "    </tr>\n",
       "    <tr>\n",
       "      <th>150,000 +</th>\n",
       "      <td>55797.800000</td>\n",
       "      <td>35000</td>\n",
       "      <td>40148.230648</td>\n",
       "    </tr>\n",
       "  </tbody>\n",
       "</table>\n",
       "</div>"
      ],
      "text/plain": [
       "                                       mean        median           std\n",
       "                              selling_price selling_price selling_price\n",
       "age_class     mileage                                                  \n",
       "1999 or older 0-24,999         73333.333333         67500  57590.508477\n",
       "              25,000-49,999    13200.000000         10000   7328.028384\n",
       "              50,000-74,999    10000.000000         10000   5000.000000\n",
       "              150,000 +        10000.000000         10000           NaN\n",
       "2000-2010     0-24,999         39481.113208         25000  44039.970066\n",
       "              25,000-49,999    30055.339806         25000  22602.662207\n",
       "              50,000-74,999    24060.000000         23250  12241.388533\n",
       "              75,000-99,999    18985.185185         20000   7210.446679\n",
       "              100,000-149,999  19625.000000         20500   9250.000000\n",
       "              150,000 +        24250.000000         21000  11354.147554\n",
       "2011-2020     0-24,999         84022.411523         62000  70237.078691\n",
       "              25,000-49,999    49259.067511         42000  25788.351522\n",
       "              50,000-74,999    39798.000000         39000  14026.192554\n",
       "              75,000-99,999    39133.333333         40000  19485.770144\n",
       "              100,000-149,999  25000.000000         25000           NaN\n",
       "              150,000 +        55797.800000         35000  40148.230648"
      ]
     },
     "execution_count": 6,
     "metadata": {},
     "output_type": "execute_result"
    }
   ],
   "source": [
    "# summary of selling price grouped by age and mileage (in kilometers)\n",
    "\n",
    "pd.pivot_table(df, values = [\"selling_price\"],\n",
    "               index = [\"age_class\", \"mileage\"],\n",
    "               aggfunc = [\"mean\",\"median\",\"std\"])"
   ]
  },
  {
   "cell_type": "markdown",
   "id": "a2ade72d-0ab5-4979-9b22-97253e3e413f",
   "metadata": {},
   "source": [
    "The stacked bar graph below is reflective of the two categorical variables above, `age_class` and `mileage`. It clearly shows that the newer motorcycles have less miles.  "
   ]
  },
  {
   "cell_type": "code",
   "execution_count": 33,
   "id": "2fa7700b-81c1-422d-9524-260e7328274d",
   "metadata": {},
   "outputs": [
    {
     "data": {
      "text/plain": [
       "<matplotlib.legend.Legend at 0x275490a93f0>"
      ]
     },
     "execution_count": 33,
     "metadata": {},
     "output_type": "execute_result"
    },
    {
     "data": {
      "image/png": "[encoded data removed]",
      "text/plain": [
       "<Figure size 432x288 with 1 Axes>"
      ]
     },
     "metadata": {
      "needs_background": "light"
     },
     "output_type": "display_data"
    }
   ],
   "source": [
    "# bar plot of categorical variables above\n",
    "tabx = pd.crosstab(df.age_class, df.mileage)\n",
    "\n",
    "tabx.plot.bar(stacked = True)\n",
    "plt.xticks(rotation = 0)\n",
    "plt.title(\"Age of Motorcycle by Kilometers Driven\")\n",
    "plt.xlabel(\"Age Class\")\n",
    "plt.ylabel(\"Count\")\n",
    "plt.legend(title = \"Kilometers Driven\")"
   ]
  },
  {
   "cell_type": "markdown",
   "id": "6fea3930-8c55-412d-ae75-7dbf536e7ee2",
   "metadata": {},
   "source": [
    "The next graph takes a look at the variable `selling_price` of every motorcycle within our data set. We can see a high number of motorcycles below 100,000, along with some outliers at very high price points. "
   ]
  },
  {
   "cell_type": "code",
   "execution_count": 59,
   "id": "4bd5e78e-e06a-486f-98f1-12673cfa88c5",
   "metadata": {},
   "outputs": [
    {
     "data": {
      "image/png": "[encoded data removed]",
      "text/plain": [
       "<Figure size 432x288 with 1 Axes>"
      ]
     },
     "metadata": {
      "needs_background": "light"
     },
     "output_type": "display_data"
    }
   ],
   "source": [
    "# histogram of selling price\n",
    "plt.hist(df['selling_price'], bins = 100)\n",
    "plt.title('Histogram of Selling Price')\n",
    "plt.xlabel('Selling Price')\n",
    "plt.show()\n",
    "plt.close()"
   ]
  },
  {
   "cell_type": "markdown",
   "id": "26dff317-34b4-4c94-b23c-a241c34f4d20",
   "metadata": {},
   "source": [
    "The graph below takes a closer look at what we just examined. This is a view of motorcycles with `selling_price` below 100,000 to see a more detailed look. We can see there is more fluctuation of the prices, which wasn't easily visible before. "
   ]
  },
  {
   "cell_type": "code",
   "execution_count": 76,
   "id": "66f3142a-fac9-45cb-82ee-63cac9ba21f4",
   "metadata": {},
   "outputs": [
    {
     "data": {
      "image/png": "[encoded data removed]",
      "text/plain": [
       "<Figure size 432x288 with 1 Axes>"
      ]
     },
     "metadata": {
      "needs_background": "light"
     },
     "output_type": "display_data"
    }
   ],
   "source": [
    "# histogram of selling price less than 100,000 to see the more common prices better\n",
    "plt.hist(df[df['selling_price'] < 100000]['selling_price'], bins = 50)\n",
    "plt.title('Histogram of Selling Price Less than 100,000')\n",
    "plt.xlabel('Selling Price')\n",
    "plt.show()\n",
    "plt.close()"
   ]
  },
  {
   "cell_type": "markdown",
   "id": "10c54096-4373-4e8d-90d4-fc07474d32cc",
   "metadata": {},
   "source": [
    "Next we'll compare `selling_price` to `km_driven` using a scatter plot. It appears that the relationship between `selling_price` and `km_driven` may be negative and linear. We can use the algorithms in the following sections to find the optimal values of $\\beta_0$ and $\\beta_1$ that will minimize the difference between actual and predicted values.   "
   ]
  },
  {
   "cell_type": "code",
   "execution_count": 30,
   "id": "1a72da25-7526-481f-9fcd-c26f49930783",
   "metadata": {},
   "outputs": [
    {
     "data": {
      "text/plain": [
       "Text(0, 0.5, 'Selling Price')"
      ]
     },
     "execution_count": 30,
     "metadata": {},
     "output_type": "execute_result"
    },
    {
     "data": {
      "image/png": "[encoded data removed]",
      "text/plain": [
       "<Figure size 432x288 with 2 Axes>"
      ]
     },
     "metadata": {
      "needs_background": "light"
     },
     "output_type": "display_data"
    }
   ],
   "source": [
    "# scatterplot of km driven by selling price\n",
    "df.plot.scatter(x = \"km_driven\", y = \"selling_price\",\n",
    "                c = \"age_class\", s = 25, marker = \"x\", cmap = \"viridis\", sharex = False)\n",
    "plt.xlim(0,150000)\n",
    "plt.ylim(0,400000)\n",
    "plt.title(\"Selling Price by Kilometers Driven\")\n",
    "plt.xlabel(\"Kilometers Driven\")\n",
    "plt.ylabel(\"Selling Price\")"
   ]
  },
  {
   "cell_type": "code",
   "execution_count": null,
   "id": "121edf2a-4444-4ec5-b550-5192a600eebc",
   "metadata": {},
   "outputs": [],
   "source": []
  },
  {
   "cell_type": "code",
   "execution_count": 97,
   "id": "3fbe6a99-1901-4628-af58-ee1a6e373ed2",
   "metadata": {
    "tags": []
   },
   "outputs": [
    {
     "data": {
      "image/png": "[encoded data removed]",
      "text/plain": [
       "<Figure size 432x288 with 1 Axes>"
      ]
     },
     "metadata": {
      "needs_background": "light"
     },
     "output_type": "display_data"
    }
   ],
   "source": [
    "plt.hist(df['owner'])\n",
    "plt.title('Number of Motorcylces by Owner Type')\n",
    "plt.xlabel('Owner Type')\n",
    "plt.show()\n",
    "plt.close()"
   ]
  },
  {
   "cell_type": "code",
   "execution_count": null,
   "id": "d9e1017c-ca0c-41e4-b68b-f6af49122d30",
   "metadata": {},
   "outputs": [],
   "source": []
  },
  {
   "cell_type": "code",
   "execution_count": 99,
   "id": "62ec681f-9b35-471a-90c2-1506883a7508",
   "metadata": {},
   "outputs": [
    {
     "data": {
      "text/html": [
       "<div>\n",
       "<style scoped>\n",
       "    .dataframe tbody tr th:only-of-type {\n",
       "        vertical-align: middle;\n",
       "    }\n",
       "\n",
       "    .dataframe tbody tr th {\n",
       "        vertical-align: top;\n",
       "    }\n",
       "\n",
       "    .dataframe thead th {\n",
       "        text-align: right;\n",
       "    }\n",
       "</style>\n",
       "<table border=\"1\" class=\"dataframe\">\n",
       "  <thead>\n",
       "    <tr style=\"text-align: right;\">\n",
       "      <th>owner</th>\n",
       "      <th>1st owner</th>\n",
       "      <th>2nd owner</th>\n",
       "      <th>3rd owner</th>\n",
       "      <th>4th owner</th>\n",
       "    </tr>\n",
       "    <tr>\n",
       "      <th>year</th>\n",
       "      <th></th>\n",
       "      <th></th>\n",
       "      <th></th>\n",
       "      <th></th>\n",
       "    </tr>\n",
       "  </thead>\n",
       "  <tbody>\n",
       "    <tr>\n",
       "      <th>1988</th>\n",
       "      <td>1</td>\n",
       "      <td>0</td>\n",
       "      <td>0</td>\n",
       "      <td>0</td>\n",
       "    </tr>\n",
       "    <tr>\n",
       "      <th>1991</th>\n",
       "      <td>1</td>\n",
       "      <td>0</td>\n",
       "      <td>0</td>\n",
       "      <td>0</td>\n",
       "    </tr>\n",
       "    <tr>\n",
       "      <th>1993</th>\n",
       "      <td>0</td>\n",
       "      <td>1</td>\n",
       "      <td>0</td>\n",
       "      <td>0</td>\n",
       "    </tr>\n",
       "    <tr>\n",
       "      <th>1995</th>\n",
       "      <td>0</td>\n",
       "      <td>0</td>\n",
       "      <td>1</td>\n",
       "      <td>0</td>\n",
       "    </tr>\n",
       "    <tr>\n",
       "      <th>1997</th>\n",
       "      <td>2</td>\n",
       "      <td>0</td>\n",
       "      <td>0</td>\n",
       "      <td>0</td>\n",
       "    </tr>\n",
       "    <tr>\n",
       "      <th>1998</th>\n",
       "      <td>2</td>\n",
       "      <td>0</td>\n",
       "      <td>1</td>\n",
       "      <td>0</td>\n",
       "    </tr>\n",
       "    <tr>\n",
       "      <th>1999</th>\n",
       "      <td>0</td>\n",
       "      <td>1</td>\n",
       "      <td>0</td>\n",
       "      <td>0</td>\n",
       "    </tr>\n",
       "    <tr>\n",
       "      <th>2000</th>\n",
       "      <td>4</td>\n",
       "      <td>0</td>\n",
       "      <td>1</td>\n",
       "      <td>1</td>\n",
       "    </tr>\n",
       "    <tr>\n",
       "      <th>2001</th>\n",
       "      <td>1</td>\n",
       "      <td>1</td>\n",
       "      <td>0</td>\n",
       "      <td>0</td>\n",
       "    </tr>\n",
       "    <tr>\n",
       "      <th>2002</th>\n",
       "      <td>1</td>\n",
       "      <td>2</td>\n",
       "      <td>0</td>\n",
       "      <td>0</td>\n",
       "    </tr>\n",
       "    <tr>\n",
       "      <th>2003</th>\n",
       "      <td>1</td>\n",
       "      <td>0</td>\n",
       "      <td>0</td>\n",
       "      <td>0</td>\n",
       "    </tr>\n",
       "    <tr>\n",
       "      <th>2004</th>\n",
       "      <td>4</td>\n",
       "      <td>1</td>\n",
       "      <td>0</td>\n",
       "      <td>0</td>\n",
       "    </tr>\n",
       "    <tr>\n",
       "      <th>2005</th>\n",
       "      <td>11</td>\n",
       "      <td>3</td>\n",
       "      <td>0</td>\n",
       "      <td>0</td>\n",
       "    </tr>\n",
       "    <tr>\n",
       "      <th>2006</th>\n",
       "      <td>17</td>\n",
       "      <td>3</td>\n",
       "      <td>0</td>\n",
       "      <td>0</td>\n",
       "    </tr>\n",
       "    <tr>\n",
       "      <th>2007</th>\n",
       "      <td>24</td>\n",
       "      <td>5</td>\n",
       "      <td>0</td>\n",
       "      <td>0</td>\n",
       "    </tr>\n",
       "    <tr>\n",
       "      <th>2008</th>\n",
       "      <td>21</td>\n",
       "      <td>5</td>\n",
       "      <td>2</td>\n",
       "      <td>0</td>\n",
       "    </tr>\n",
       "    <tr>\n",
       "      <th>2009</th>\n",
       "      <td>21</td>\n",
       "      <td>5</td>\n",
       "      <td>1</td>\n",
       "      <td>1</td>\n",
       "    </tr>\n",
       "    <tr>\n",
       "      <th>2010</th>\n",
       "      <td>50</td>\n",
       "      <td>10</td>\n",
       "      <td>0</td>\n",
       "      <td>0</td>\n",
       "    </tr>\n",
       "    <tr>\n",
       "      <th>2011</th>\n",
       "      <td>50</td>\n",
       "      <td>10</td>\n",
       "      <td>1</td>\n",
       "      <td>0</td>\n",
       "    </tr>\n",
       "    <tr>\n",
       "      <th>2012</th>\n",
       "      <td>56</td>\n",
       "      <td>13</td>\n",
       "      <td>1</td>\n",
       "      <td>0</td>\n",
       "    </tr>\n",
       "    <tr>\n",
       "      <th>2013</th>\n",
       "      <td>66</td>\n",
       "      <td>6</td>\n",
       "      <td>1</td>\n",
       "      <td>0</td>\n",
       "    </tr>\n",
       "    <tr>\n",
       "      <th>2014</th>\n",
       "      <td>75</td>\n",
       "      <td>15</td>\n",
       "      <td>0</td>\n",
       "      <td>1</td>\n",
       "    </tr>\n",
       "    <tr>\n",
       "      <th>2015</th>\n",
       "      <td>83</td>\n",
       "      <td>16</td>\n",
       "      <td>1</td>\n",
       "      <td>0</td>\n",
       "    </tr>\n",
       "    <tr>\n",
       "      <th>2016</th>\n",
       "      <td>95</td>\n",
       "      <td>12</td>\n",
       "      <td>0</td>\n",
       "      <td>0</td>\n",
       "    </tr>\n",
       "    <tr>\n",
       "      <th>2017</th>\n",
       "      <td>122</td>\n",
       "      <td>10</td>\n",
       "      <td>1</td>\n",
       "      <td>0</td>\n",
       "    </tr>\n",
       "    <tr>\n",
       "      <th>2018</th>\n",
       "      <td>128</td>\n",
       "      <td>3</td>\n",
       "      <td>0</td>\n",
       "      <td>0</td>\n",
       "    </tr>\n",
       "    <tr>\n",
       "      <th>2019</th>\n",
       "      <td>85</td>\n",
       "      <td>1</td>\n",
       "      <td>0</td>\n",
       "      <td>0</td>\n",
       "    </tr>\n",
       "    <tr>\n",
       "      <th>2020</th>\n",
       "      <td>3</td>\n",
       "      <td>0</td>\n",
       "      <td>0</td>\n",
       "      <td>0</td>\n",
       "    </tr>\n",
       "  </tbody>\n",
       "</table>\n",
       "</div>"
      ],
      "text/plain": [
       "owner  1st owner  2nd owner  3rd owner  4th owner\n",
       "year                                             \n",
       "1988           1          0          0          0\n",
       "1991           1          0          0          0\n",
       "1993           0          1          0          0\n",
       "1995           0          0          1          0\n",
       "1997           2          0          0          0\n",
       "1998           2          0          1          0\n",
       "1999           0          1          0          0\n",
       "2000           4          0          1          1\n",
       "2001           1          1          0          0\n",
       "2002           1          2          0          0\n",
       "2003           1          0          0          0\n",
       "2004           4          1          0          0\n",
       "2005          11          3          0          0\n",
       "2006          17          3          0          0\n",
       "2007          24          5          0          0\n",
       "2008          21          5          2          0\n",
       "2009          21          5          1          1\n",
       "2010          50         10          0          0\n",
       "2011          50         10          1          0\n",
       "2012          56         13          1          0\n",
       "2013          66          6          1          0\n",
       "2014          75         15          0          1\n",
       "2015          83         16          1          0\n",
       "2016          95         12          0          0\n",
       "2017         122         10          1          0\n",
       "2018         128          3          0          0\n",
       "2019          85          1          0          0\n",
       "2020           3          0          0          0"
      ]
     },
     "execution_count": 99,
     "metadata": {},
     "output_type": "execute_result"
    }
   ],
   "source": [
    "# two-way contingency table for owner and year\n",
    "pd.crosstab(df['year'], df['owner'])"
   ]
  },
  {
   "cell_type": "markdown",
   "id": "04291b09-c512-4c00-b017-16e1363cfaeb",
   "metadata": {},
   "source": [
    "Finally, we're going to take a look at the variable `km_driven` for all motorcycles in our data set. We can see a large number have driven below 200,000, and somewhere around 150,000 possibly, with some large outliers."
   ]
  },
  {
   "cell_type": "code",
   "execution_count": 92,
   "id": "aa70d548-1ea0-4332-8cad-1b8bec0df9fb",
   "metadata": {},
   "outputs": [
    {
     "data": {
      "image/png": "[encoded data removed]",
      "text/plain": [
       "<Figure size 432x288 with 1 Axes>"
      ]
     },
     "metadata": {
      "needs_background": "light"
     },
     "output_type": "display_data"
    }
   ],
   "source": [
    "plt.hist(df['km_driven'], bins = 100)\n",
    "plt.title('Histogram of km Driven')\n",
    "plt.xlabel('km_driven')\n",
    "plt.show()\n",
    "plt.close()"
   ]
  },
  {
   "cell_type": "markdown",
   "id": "4faeef50-8b47-4a2a-a250-83a968689baa",
   "metadata": {},
   "source": [
    "We want to take a closer look at where most of our data lies, so we'll examine the same information but now for motorcycles that have driven less than 150,000 km. There's a bit of a drop off at higher distances, but there are some small increases within that gradual decline."
   ]
  },
  {
   "cell_type": "code",
   "execution_count": 93,
   "id": "03aa8ca2-c91b-4346-8d83-3dc62d4895c1",
   "metadata": {},
   "outputs": [
    {
     "data": {
      "image/png": "[encoded data removed]",
      "text/plain": [
       "<Figure size 432x288 with 1 Axes>"
      ]
     },
     "metadata": {
      "needs_background": "light"
     },
     "output_type": "display_data"
    }
   ],
   "source": [
    "plt.hist(df[df['km_driven'] < 150000]['km_driven'], bins = 100)\n",
    "plt.title('Histogram of km Driven Less Than 150,000')\n",
    "plt.xlabel('km_driven')\n",
    "plt.show()\n",
    "plt.close()"
   ]
  },
  {
   "cell_type": "markdown",
   "id": "041eef83-7e67-44d0-a2e1-a347e43ae058",
   "metadata": {},
   "source": [
    "## Loss Function"
   ]
  },
  {
   "cell_type": "markdown",
   "id": "8186d40d-fa11-4d63-86b4-0865eb19fd5a",
   "metadata": {},
   "source": [
    "If we want to predict a value of **selling_price**, we need to figure out what a good prediction will be. This is typically done using a loss function. One of the common metrics is the root mean square error (RMSE) for our prediction (c) compared to our true values (y), which is the following equation:\n",
    "$$\n",
    "RMSE(c) = \\sqrt{\\frac{1}{n}\\sum_{i=1}^{n}(y_i-c)^2}\n",
    "$$\n",
    "In the different prediction methods, we want to find the prediction that minimizes this value. "
   ]
  },
  {
   "cell_type": "code",
   "execution_count": 7,
   "id": "739e091f-2458-4850-a53b-90ca1a0adfcc",
   "metadata": {},
   "outputs": [],
   "source": [
    "# calculate the RMSE for a list of predicted and actual y values\n",
    "def rmse(predicted, actual):\n",
    "    return sqrt(np.square(np.subtract(actual, predicted)).mean())"
   ]
  },
  {
   "cell_type": "markdown",
   "id": "1478764b-6947-49f8-a90c-602ffe2b676a",
   "metadata": {},
   "source": [
    "## Grid Search Algorithm"
   ]
  },
  {
   "cell_type": "markdown",
   "id": "dd14fba1-7991-4e0d-b0e6-c687410eb6d4",
   "metadata": {},
   "source": [
    "The first method that we'll use to predict a value of `selling_price` is a grid search algorithm. This will look through manually selected values and determine which is the best predictor for our data. The selected values will be based on the previous exploratory analysis of `selling_price`. We saw a lot of values less than 100,000, and more specifically between a little under 20,000 and 80,000. We'll first examine it just for our y value, using values between 18,000, and 80,250 in increments of 1. We'll also do this for the variable `km_driven`, to see if our algorithm generalizes. The selected values is also based on the previous exploratory analysis, and we'll use values between 0 and 80,000 in increments of 1. After this, we'll examine it for a y and x value. "
   ]
  },
  {
   "cell_type": "markdown",
   "id": "6ee17ea9-04ab-4d34-9a2c-ec068de682f3",
   "metadata": {},
   "source": [
    "### Grid Search Algorithm for just y values"
   ]
  },
  {
   "cell_type": "code",
   "execution_count": 90,
   "id": "c13fc936-9a72-47a4-9af6-88b94e03678b",
   "metadata": {},
   "outputs": [
    {
     "name": "stdout",
     "output_type": "stream",
     "text": [
      "Optimal value: 59638\n"
     ]
    }
   ],
   "source": [
    "# create a grid of values for c based on previous exploratory analysis\n",
    "grid = list(range(18000, 80251, 1))\n",
    "\n",
    "# loop over the grid values and get the rmse for each\n",
    "rmse_values = []\n",
    "for c in grid:\n",
    "    rmse_values.append(rmse(c, df['selling_price']))\n",
    "    \n",
    "# get the index of the smallest RMSE from the list \n",
    "min_index = rmse_values.index(min(rmse_values))\n",
    "\n",
    "# get the value from the grid that has the smallest RMSE\n",
    "print('Optimal value:', grid[min_index])"
   ]
  },
  {
   "cell_type": "code",
   "execution_count": 89,
   "id": "9b0936c0-d755-4070-bdf5-573bc2cbf09a",
   "metadata": {},
   "outputs": [
    {
     "name": "stdout",
     "output_type": "stream",
     "text": [
      "Optimal value: 34360\n"
     ]
    }
   ],
   "source": [
    "# run the algorithm for km_driven to see if this generalizes\n",
    "# create a grid of values for c based on previous exploratory analysis\n",
    "grid = list(range(0, 80001, 1))\n",
    "\n",
    "rmse_values = []\n",
    "for c in grid:\n",
    "    rmse_values.append(rmse(c, df['km_driven']))\n",
    "    \n",
    "# get the index of the smallest RMSE from the list \n",
    "min_index = rmse_values.index(min(rmse_values))\n",
    "\n",
    "# get the value from the grid that has the smallest RMSE\n",
    "print('Optimal value:', grid[min_index])"
   ]
  },
  {
   "cell_type": "markdown",
   "id": "da726eb8-a496-4f2f-acc0-c05415abb29b",
   "metadata": {},
   "source": [
    "### Grid Search with *y* and another numeric variable *x*  \n",
    "\n",
    "Now we'll find the optimal values of $\\beta_0$ and $\\beta_1$ that connect the variables `selling_price` and `km_driven` in the equation `selling_price` = $\\beta_0$ + $\\beta_1$*`km_driven`. From the graphs we've created, we deduced that the intercept may be between 0 and 80,000. After iterating over (0, 80000) by 1000, we concluded that we could reduce our grid size to be between 55,000 and 65,000, using a step size of 100. Also based on the graphs, the relationship between `km_driven` and `selling_price` looks mildly negative, so we set the grid values for the slope to be between -1 and 0, using a step size of 0.1.  "
   ]
  },
  {
   "cell_type": "code",
   "execution_count": 10,
   "id": "36144e96-4ee5-4e33-a1ff-17dacba81cfc",
   "metadata": {},
   "outputs": [],
   "source": [
    "#choose grid values\n",
    "grid_b0 = list(range(55000,65000,100))\n",
    "grid_b1 = list(np.arange(-1,0,0.1))\n",
    "\n",
    "#define function\n",
    "def rmse_slr(b0_grid, b1_grid, x_values, y_values):\n",
    "    rmsevalz = [100000000] #create list with very large initial value\n",
    "    dictrmse = dict([]) #create empty dictionary\n",
    "    \n",
    "    for x in x_values:\n",
    "        for b0 in b0_grid:\n",
    "            for b1 in b1_grid:\n",
    "                c = b0 + b1*x #define c\n",
    "                r_mse = rmse(c, y_values) #calculate mse\n",
    "                if r_mse < min(rmsevalz): #if mse is the minimum mse so far, \n",
    "                    rmsevalz.append(r_mse) #add it to the list\n",
    "                    dictrmse.update(RMSE = [r_mse, b0, b1]) #update the dictionary with new estimates\n",
    "    return dictrmse #return the optimal estimates\n"
   ]
  },
  {
   "cell_type": "code",
   "execution_count": 11,
   "id": "0838f6a8-00ab-4f69-8342-db1d37666c07",
   "metadata": {},
   "outputs": [
    {
     "data": {
      "text/plain": [
       "{'RMSE': [56277.752122003876, 61100, -0.40000000000000013]}"
      ]
     },
     "execution_count": 11,
     "metadata": {},
     "output_type": "execute_result"
    }
   ],
   "source": [
    "rmse_slr(grid_b0, grid_b1, df.km_driven, df.selling_price)"
   ]
  },
  {
   "cell_type": "markdown",
   "id": "b3aec8a7-576f-4e01-a5ca-d117c9b76239",
   "metadata": {},
   "source": [
    "Below we can predict the estimated sale prices for a motorcycle for different values of `km_driven` using our estimates for $\\beta_0$ and $\\beta_1$ above.  "
   ]
  },
  {
   "cell_type": "code",
   "execution_count": 122,
   "id": "bc6c08d2-2c6e-4264-aeff-24341c16f510",
   "metadata": {},
   "outputs": [
    {
     "name": "stdout",
     "output_type": "stream",
     "text": [
      "The estimated sale price for a motorcycle driven 10,000 km is $ 57100.0\n",
      "The estimated sale price for a motorcycle driven 25,000 km is $ 51100.0\n",
      "The estimated sale price for a motorcycle driven 35,000 km is $ 47100.0\n"
     ]
    }
   ],
   "source": [
    "b0 = 61100\n",
    "b1 = -0.4\n",
    "\n",
    "#10,000\n",
    "print(\"The estimated sale price for a motorcycle driven 10,000 km is $\", b0 + b1*10000)\n",
    "\n",
    "#25,000\n",
    "print(\"The estimated sale price for a motorcycle driven 25,000 km is $\", b0 + b1*25000)\n",
    "\n",
    "#35,000\n",
    "print(\"The estimated sale price for a motorcycle driven 35,000 km is $\", b0 + b1*35000)"
   ]
  },
  {
   "cell_type": "markdown",
   "id": "58618e49-0bba-48db-af5b-dddbd2b8a823",
   "metadata": {},
   "source": [
    "## Gradient Descent Algorithm"
   ]
  },
  {
   "cell_type": "markdown",
   "id": "47f7ab35-1990-4104-af35-876690d08b8c",
   "metadata": {},
   "source": [
    "The other method we'll look at is the Gradient Descent Algorithm. This is an iterative optimization algorithm that will find the local minimum of a function. This typically uses calculus to find the minimum based on derivatives, but since we don't have a function to derive, we'll estimate this by using a difference quotient. The difference quotient is the following equation:\n",
    "$$\n",
    "diff\\_quotient = \\frac{RMSE(c + \\Delta) - RMSE(c)}{\\Delta}\n",
    "$$\n",
    "\n",
    "This will give us an estimate of the slope of a tangent line. We'll use this slope to calculate our new predicted value and compare the new value to the old value. Once we move a very small distance, we can take a reasonable guess that we're at, or at least close to, the minimum. Our new value will be determined by the equation: $ new\\_val = cur\\_val + slope * step\\_size $, where `step_size` is a set value.  \n",
    "\n",
    "\n"
   ]
  },
  {
   "cell_type": "markdown",
   "id": "2fa739ed-68ac-46c5-bd9d-1756cb74b2e6",
   "metadata": {},
   "source": [
    "### Difference Quotient Function"
   ]
  },
  {
   "cell_type": "code",
   "execution_count": 9,
   "id": "f3bdb086-de2f-44f0-951f-da6039f2a12d",
   "metadata": {},
   "outputs": [],
   "source": [
    "# difference quotient function\n",
    "def diff_quot(predicted, actual, delta):\n",
    "    return (rmse(predicted + delta, actual) - rmse(predicted, actual)) / delta"
   ]
  },
  {
   "cell_type": "markdown",
   "id": "c4b62de7-7453-4c70-b05c-58e64b24a733",
   "metadata": {},
   "source": [
    "### Gradient Descent for just y"
   ]
  },
  {
   "cell_type": "code",
   "execution_count": 13,
   "id": "f8e0bd26-e9c5-4128-b483-95de6a346ac4",
   "metadata": {},
   "outputs": [
    {
     "name": "stdout",
     "output_type": "stream",
     "text": [
      "Optimal Value 59626.89391984968\n"
     ]
    }
   ],
   "source": [
    "# initialize values for the predicted value, delta, and step size\n",
    "cur_c = 50000\n",
    "delta = 0.005\n",
    "step_size = 0.5\n",
    "\n",
    "# cap the iterations at 2,000,000 so it doesn't possibly run forever\n",
    "for _ in range(2000000):\n",
    "    # calculate the difference quotient for the current predicted value\n",
    "    diff_quotient = diff_quot(cur_c, df['selling_price'], delta)\n",
    "    # create a new predicted value based on the difference quotient and step size\n",
    "    new_c = cur_c - (diff_quotient * step_size)\n",
    "    # see if the new value is enough of a change to update the predicted value\n",
    "    if abs(new_c - cur_c) < 0.0001:\n",
    "        # if this is true, update the value and stop the loop\n",
    "        cur_c = new_c\n",
    "        break\n",
    "    # update the new value and continue with the loop\n",
    "    cur_c = new_c\n",
    "    \n",
    "print('Optimal Value', cur_c)"
   ]
  },
  {
   "cell_type": "code",
   "execution_count": 11,
   "id": "6050363e-81c0-4f24-ae01-63977b75ca49",
   "metadata": {},
   "outputs": [
    {
     "name": "stdout",
     "output_type": "stream",
     "text": [
      "Optimal Value 34370.15023825297\n"
     ]
    }
   ],
   "source": [
    "# initialize values for the predicted value, delta, and step size\n",
    "cur_c = 50000\n",
    "delta = 0.005\n",
    "step_size = 0.5\n",
    "\n",
    "# cap the iterations at 2,000,000 so it doesn't possibly run forever\n",
    "for _ in range(2000000):\n",
    "    # calculate the difference quotient for the current predicted value\n",
    "    diff_quotient = diff_quot(cur_c, df['km_driven'], delta)\n",
    "    # create a new predicted value based on the difference quotient and step size\n",
    "    new_c = cur_c - (diff_quotient * step_size)\n",
    "    # see if the new value is enough of a change to update the predicted value\n",
    "    if abs(new_c - cur_c) < 0.0001:\n",
    "        # if this is true, update the value and stop the loop\n",
    "        cur_c = new_c\n",
    "        break\n",
    "    # update the new value and continue with the loop\n",
    "    cur_c = new_c\n",
    "    \n",
    "print('Optimal Value', cur_c)"
   ]
  },
  {
   "cell_type": "markdown",
   "id": "33a9a8a2-574f-4a4f-bce4-495a55077522",
   "metadata": {},
   "source": [
    "### Gradient Descent with *y* and another numeric variable *x*  \n",
    "\n",
    "Now we'll use the gradient descent method using `km_driven` as an *x* variable for `selling_price` *y*. First we'll create the necessary functions, then run the algorithm to produce estimates for $\\beta_0$ and $\\beta_1$.  "
   ]
  },
  {
   "cell_type": "code",
   "execution_count": 118,
   "id": "b3a622f5-e89c-44ee-bd9e-95bd87eb176a",
   "metadata": {},
   "outputs": [],
   "source": [
    "# create squared error loss function  \n",
    "def squerrls(y, x, b_0, b_1):\n",
    "    return (y - b_0 - b_1*x)**2\n",
    "\n",
    "# rmse func\n",
    "def rmse_mult(y, x, b_0, b_1):\n",
    "    return sqrt(squerrls(y, x, b_0, b_1).mean())\n",
    "\n",
    "# difference quotient for b0\n",
    "def diffquot_b0(y, x, b_0, delta_0, b_1):\n",
    "    numerator = rmse_mult(y, x, b_0 + delta_0, b_1) - rmse_mult(y, x, b_0, b_1)\n",
    "    return numerator/delta_0\n",
    "\n",
    "# difference quotient for b1\n",
    "def diffquot_b1(y, x, b_0, b_1, delta_1):\n",
    "    numerator = rmse_mult(y, x, b_0, b_1 + delta_1) - rmse_mult(y, x, b_0, b_1)\n",
    "    return numerator/delta_1\n"
   ]
  },
  {
   "cell_type": "markdown",
   "id": "95e3d23e-a05e-4e1b-a49a-db43b911550d",
   "metadata": {},
   "source": [
    "The starting values for `cur_b0` and `cur_b1` are based on the resulting values for these parameters from the grid search algorithm. We've chosen `delta` to a very small number so we can get an accurate slope estimate for the tangent line for each iteration. The step size for $\\beta_0$ is larger than the step size for $\\beta_1$ because we expect the intercept to have a much larger value than the slope, so these step sizes will increase precision.  "
   ]
  },
  {
   "cell_type": "code",
   "execution_count": 119,
   "id": "aa94ba38-5ea5-46d3-a8a6-abb5bfcd1354",
   "metadata": {},
   "outputs": [
    {
     "name": "stdout",
     "output_type": "stream",
     "text": [
      "The optimal value for b_0 is:  67734.12116574764 and the optimal value for b_1 is:  -0.23578317893947628\n"
     ]
    }
   ],
   "source": [
    "#set parameter values\n",
    "cur_b0 = 61100\n",
    "cur_b1 = -0.4\n",
    "delta = 0.005\n",
    "step_size_b0 = 1\n",
    "step_size_b1 = 0.000005\n",
    "y = df.selling_price\n",
    "x = df.km_driven\n",
    "\n",
    "#begin iteration but limit number of iterations to 2000000\n",
    "for _ in range(2000000):\n",
    "    #compute diff quotient b0\n",
    "    diff_quotient_b0 = diffquot_b0(y, x, cur_b0, delta, cur_b1)\n",
    "    #compute new b0 value\n",
    "    new_b0 = cur_b0 - diff_quotient_b0*step_size_b0\n",
    "    #compute diff quotient b1\n",
    "    diff_quotient_b1 = diffquot_b1(y, x, new_b0, cur_b1, delta)\n",
    "    #compute new b1 value\n",
    "    new_b1 = cur_b1 - diff_quotient_b1*step_size_b1\n",
    "    #create old vector and new vector\n",
    "    point1 = np.array((cur_b0, cur_b1))\n",
    "    point2 = np.array((new_b0, new_b1))\n",
    "    #if the absolute difference between vectors is less than this value, replace old vector with new vector\n",
    "    #and break\n",
    "    if abs(np.linalg.norm(point1 - point2)) < 0.0001:\n",
    "        cur_b0 = new_b0\n",
    "        cur_b1 = new_b1\n",
    "        break\n",
    "    #replace old values with new values\n",
    "    cur_b0 = new_b0\n",
    "    cur_b1 = new_b1\n",
    "    \n",
    "print(\"The optimal value for b_0 is: \", cur_b0, \"and the optimal value for b_1 is: \", cur_b1)"
   ]
  },
  {
   "cell_type": "markdown",
   "id": "811ed876-ae5f-4927-ac13-2d9ae3c30137",
   "metadata": {},
   "source": [
    "Finally, we can once again predict `selling_price` from `km_driven` using our new estimates for $\\beta_0$ and $\\beta_1$.  "
   ]
  },
  {
   "cell_type": "code",
   "execution_count": 121,
   "id": "b55ca704-d166-45d9-a004-5e159caf6557",
   "metadata": {},
   "outputs": [
    {
     "name": "stdout",
     "output_type": "stream",
     "text": [
      "The estimated sale price for a motorcycle driven 10,000 km is $ 65376.28937635288\n",
      "The estimated sale price for a motorcycle driven 25,000 km is $ 61839.54169226073\n",
      "The estimated sale price for a motorcycle driven 35,000 km is $ 59481.70990286597\n"
     ]
    }
   ],
   "source": [
    "b0 = cur_b0\n",
    "b1 = cur_b1\n",
    "\n",
    "#10,000\n",
    "print(\"The estimated sale price for a motorcycle driven 10,000 km is $\", cur_b0 + cur_b1*10000)\n",
    "\n",
    "#25,000\n",
    "print(\"The estimated sale price for a motorcycle driven 25,000 km is $\", cur_b0 + cur_b1*25000)\n",
    "\n",
    "#35,000\n",
    "print(\"The estimated sale price for a motorcycle driven 35,000 km is $\", cur_b0 + cur_b1*35000)"
   ]
  }
 ],
 "metadata": {
  "kernelspec": {
   "display_name": "Python 3 (ipykernel)",
   "language": "python",
   "name": "python3"
  },
  "language_info": {
   "codemirror_mode": {
    "name": "ipython",
    "version": 3
   },
   "file_extension": ".py",
   "mimetype": "text/x-python",
   "name": "python",
   "nbconvert_exporter": "python",
   "pygments_lexer": "ipython3",
   "version": "3.9.6"
  }
 },
 "nbformat": 4,
 "nbformat_minor": 5
}

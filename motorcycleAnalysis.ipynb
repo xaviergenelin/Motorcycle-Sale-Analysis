{
 "cells": [
  {
   "cell_type": "markdown",
   "id": "25c6a669-3285-46e4-800c-77715334cd03",
   "metadata": {},
   "source": [
    "# Introduction"
   ]
  },
  {
   "cell_type": "markdown",
   "id": "0a383ec6-f18a-4097-986b-cca497925af3",
   "metadata": {},
   "source": [
    "Introduction details"
   ]
  },
  {
   "cell_type": "code",
   "execution_count": 33,
   "id": "428b41ed-7c23-4973-bc7d-003f0001e1d3",
   "metadata": {},
   "outputs": [],
   "source": [
    "import pandas as pd \n",
    "import numpy as np \n",
    "import matplotlib.pyplot as plt\n",
    "from math import sqrt"
   ]
  },
  {
   "cell_type": "code",
   "execution_count": 2,
   "id": "ef31a5cb-7b88-4be8-a84c-a646909a65f3",
   "metadata": {},
   "outputs": [
    {
     "data": {
      "text/html": [
       "<div>\n",
       "<style scoped>\n",
       "    .dataframe tbody tr th:only-of-type {\n",
       "        vertical-align: middle;\n",
       "    }\n",
       "\n",
       "    .dataframe tbody tr th {\n",
       "        vertical-align: top;\n",
       "    }\n",
       "\n",
       "    .dataframe thead th {\n",
       "        text-align: right;\n",
       "    }\n",
       "</style>\n",
       "<table border=\"1\" class=\"dataframe\">\n",
       "  <thead>\n",
       "    <tr style=\"text-align: right;\">\n",
       "      <th></th>\n",
       "      <th>name</th>\n",
       "      <th>selling_price</th>\n",
       "      <th>year</th>\n",
       "      <th>seller_type</th>\n",
       "      <th>owner</th>\n",
       "      <th>km_driven</th>\n",
       "      <th>ex_showroom_price</th>\n",
       "    </tr>\n",
       "  </thead>\n",
       "  <tbody>\n",
       "    <tr>\n",
       "      <th>0</th>\n",
       "      <td>Royal Enfield Classic 350</td>\n",
       "      <td>175000</td>\n",
       "      <td>2019</td>\n",
       "      <td>Individual</td>\n",
       "      <td>1st owner</td>\n",
       "      <td>350</td>\n",
       "      <td>NaN</td>\n",
       "    </tr>\n",
       "    <tr>\n",
       "      <th>1</th>\n",
       "      <td>Honda Dio</td>\n",
       "      <td>45000</td>\n",
       "      <td>2017</td>\n",
       "      <td>Individual</td>\n",
       "      <td>1st owner</td>\n",
       "      <td>5650</td>\n",
       "      <td>NaN</td>\n",
       "    </tr>\n",
       "    <tr>\n",
       "      <th>2</th>\n",
       "      <td>Royal Enfield Classic Gunmetal Grey</td>\n",
       "      <td>150000</td>\n",
       "      <td>2018</td>\n",
       "      <td>Individual</td>\n",
       "      <td>1st owner</td>\n",
       "      <td>12000</td>\n",
       "      <td>148114.0</td>\n",
       "    </tr>\n",
       "    <tr>\n",
       "      <th>3</th>\n",
       "      <td>Yamaha Fazer FI V 2.0 [2016-2018]</td>\n",
       "      <td>65000</td>\n",
       "      <td>2015</td>\n",
       "      <td>Individual</td>\n",
       "      <td>1st owner</td>\n",
       "      <td>23000</td>\n",
       "      <td>89643.0</td>\n",
       "    </tr>\n",
       "    <tr>\n",
       "      <th>4</th>\n",
       "      <td>Yamaha SZ [2013-2014]</td>\n",
       "      <td>20000</td>\n",
       "      <td>2011</td>\n",
       "      <td>Individual</td>\n",
       "      <td>2nd owner</td>\n",
       "      <td>21000</td>\n",
       "      <td>NaN</td>\n",
       "    </tr>\n",
       "  </tbody>\n",
       "</table>\n",
       "</div>"
      ],
      "text/plain": [
       "                                  name  selling_price  year seller_type  \\\n",
       "0            Royal Enfield Classic 350         175000  2019  Individual   \n",
       "1                            Honda Dio          45000  2017  Individual   \n",
       "2  Royal Enfield Classic Gunmetal Grey         150000  2018  Individual   \n",
       "3    Yamaha Fazer FI V 2.0 [2016-2018]          65000  2015  Individual   \n",
       "4                Yamaha SZ [2013-2014]          20000  2011  Individual   \n",
       "\n",
       "       owner  km_driven  ex_showroom_price  \n",
       "0  1st owner        350                NaN  \n",
       "1  1st owner       5650                NaN  \n",
       "2  1st owner      12000           148114.0  \n",
       "3  1st owner      23000            89643.0  \n",
       "4  2nd owner      21000                NaN  "
      ]
     },
     "execution_count": 2,
     "metadata": {},
     "output_type": "execute_result"
    }
   ],
   "source": [
    "# read in the data \n",
    "df = pd.read_csv('bikeDetails.csv')\n",
    "df.head(5)"
   ]
  },
  {
   "cell_type": "markdown",
   "id": "93c3a320-1bee-485a-b0d2-d57ee575a313",
   "metadata": {
    "tags": []
   },
   "source": [
    "## Exploratory Data Analysis"
   ]
  },
  {
   "cell_type": "markdown",
   "id": "5c31af64-7323-45b7-bfda-b399f0570063",
   "metadata": {},
   "source": []
  },
  {
   "cell_type": "code",
   "execution_count": 60,
   "id": "f9b9710f-e8ea-4c4a-9bd0-2d1684551877",
   "metadata": {},
   "outputs": [
    {
     "data": {
      "text/plain": [
       "min         5000.000000\n",
       "mean       59638.151744\n",
       "median     45000.000000\n",
       "max       760000.000000\n",
       "std        56304.291973\n",
       "Name: selling_price, dtype: float64"
      ]
     },
     "execution_count": 60,
     "metadata": {},
     "output_type": "execute_result"
    }
   ],
   "source": [
    "# overall summaries of selling price\n",
    "df['selling_price'].agg(['min', 'mean', 'median', 'max', 'std'])"
   ]
  },
  {
   "cell_type": "code",
   "execution_count": 59,
   "id": "4bd5e78e-e06a-486f-98f1-12673cfa88c5",
   "metadata": {},
   "outputs": [
    {
     "data": {
      "image/png": "[encoded data removed]",
      "text/plain": [
       "<Figure size 432x288 with 1 Axes>"
      ]
     },
     "metadata": {
      "needs_background": "light"
     },
     "output_type": "display_data"
    }
   ],
   "source": [
    "# histogram of selling price\n",
    "plt.hist(df['selling_price'], bins = 100)\n",
    "plt.title('Histogram of Selling Price')\n",
    "plt.xlabel('Selling Price')\n",
    "plt.show()\n",
    "plt.close()"
   ]
  },
  {
   "cell_type": "code",
   "execution_count": 76,
   "id": "66f3142a-fac9-45cb-82ee-63cac9ba21f4",
   "metadata": {},
   "outputs": [
    {
     "data": {
      "image/png": "[encoded data removed]",
      "text/plain": [
       "<Figure size 432x288 with 1 Axes>"
      ]
     },
     "metadata": {
      "needs_background": "light"
     },
     "output_type": "display_data"
    }
   ],
   "source": [
    "# histogram of selling price less than 100,000 to see the more common prices better\n",
    "plt.hist(df[df['selling_price'] < 100000]['selling_price'], bins = 50)\n",
    "plt.title('Histogram of Selling Price Less than 100,000')\n",
    "plt.xlabel('Selling Price')\n",
    "plt.show()\n",
    "plt.close()"
   ]
  },
  {
   "cell_type": "code",
   "execution_count": 97,
   "id": "3fbe6a99-1901-4628-af58-ee1a6e373ed2",
   "metadata": {
    "tags": []
   },
   "outputs": [
    {
     "data": {
      "image/png": "[encoded data removed]",
      "text/plain": [
       "<Figure size 432x288 with 1 Axes>"
      ]
     },
     "metadata": {
      "needs_background": "light"
     },
     "output_type": "display_data"
    }
   ],
   "source": [
    "plt.hist(df['owner'])\n",
    "plt.title('Number of Motorcylces by Owner Type')\n",
    "plt.xlabel('Owner Type')\n",
    "plt.show()\n",
    "plt.close()"
   ]
  },
  {
   "cell_type": "code",
   "execution_count": 99,
   "id": "62ec681f-9b35-471a-90c2-1506883a7508",
   "metadata": {},
   "outputs": [
    {
     "data": {
      "text/html": [
       "<div>\n",
       "<style scoped>\n",
       "    .dataframe tbody tr th:only-of-type {\n",
       "        vertical-align: middle;\n",
       "    }\n",
       "\n",
       "    .dataframe tbody tr th {\n",
       "        vertical-align: top;\n",
       "    }\n",
       "\n",
       "    .dataframe thead th {\n",
       "        text-align: right;\n",
       "    }\n",
       "</style>\n",
       "<table border=\"1\" class=\"dataframe\">\n",
       "  <thead>\n",
       "    <tr style=\"text-align: right;\">\n",
       "      <th>owner</th>\n",
       "      <th>1st owner</th>\n",
       "      <th>2nd owner</th>\n",
       "      <th>3rd owner</th>\n",
       "      <th>4th owner</th>\n",
       "    </tr>\n",
       "    <tr>\n",
       "      <th>year</th>\n",
       "      <th></th>\n",
       "      <th></th>\n",
       "      <th></th>\n",
       "      <th></th>\n",
       "    </tr>\n",
       "  </thead>\n",
       "  <tbody>\n",
       "    <tr>\n",
       "      <th>1988</th>\n",
       "      <td>1</td>\n",
       "      <td>0</td>\n",
       "      <td>0</td>\n",
       "      <td>0</td>\n",
       "    </tr>\n",
       "    <tr>\n",
       "      <th>1991</th>\n",
       "      <td>1</td>\n",
       "      <td>0</td>\n",
       "      <td>0</td>\n",
       "      <td>0</td>\n",
       "    </tr>\n",
       "    <tr>\n",
       "      <th>1993</th>\n",
       "      <td>0</td>\n",
       "      <td>1</td>\n",
       "      <td>0</td>\n",
       "      <td>0</td>\n",
       "    </tr>\n",
       "    <tr>\n",
       "      <th>1995</th>\n",
       "      <td>0</td>\n",
       "      <td>0</td>\n",
       "      <td>1</td>\n",
       "      <td>0</td>\n",
       "    </tr>\n",
       "    <tr>\n",
       "      <th>1997</th>\n",
       "      <td>2</td>\n",
       "      <td>0</td>\n",
       "      <td>0</td>\n",
       "      <td>0</td>\n",
       "    </tr>\n",
       "    <tr>\n",
       "      <th>1998</th>\n",
       "      <td>2</td>\n",
       "      <td>0</td>\n",
       "      <td>1</td>\n",
       "      <td>0</td>\n",
       "    </tr>\n",
       "    <tr>\n",
       "      <th>1999</th>\n",
       "      <td>0</td>\n",
       "      <td>1</td>\n",
       "      <td>0</td>\n",
       "      <td>0</td>\n",
       "    </tr>\n",
       "    <tr>\n",
       "      <th>2000</th>\n",
       "      <td>4</td>\n",
       "      <td>0</td>\n",
       "      <td>1</td>\n",
       "      <td>1</td>\n",
       "    </tr>\n",
       "    <tr>\n",
       "      <th>2001</th>\n",
       "      <td>1</td>\n",
       "      <td>1</td>\n",
       "      <td>0</td>\n",
       "      <td>0</td>\n",
       "    </tr>\n",
       "    <tr>\n",
       "      <th>2002</th>\n",
       "      <td>1</td>\n",
       "      <td>2</td>\n",
       "      <td>0</td>\n",
       "      <td>0</td>\n",
       "    </tr>\n",
       "    <tr>\n",
       "      <th>2003</th>\n",
       "      <td>1</td>\n",
       "      <td>0</td>\n",
       "      <td>0</td>\n",
       "      <td>0</td>\n",
       "    </tr>\n",
       "    <tr>\n",
       "      <th>2004</th>\n",
       "      <td>4</td>\n",
       "      <td>1</td>\n",
       "      <td>0</td>\n",
       "      <td>0</td>\n",
       "    </tr>\n",
       "    <tr>\n",
       "      <th>2005</th>\n",
       "      <td>11</td>\n",
       "      <td>3</td>\n",
       "      <td>0</td>\n",
       "      <td>0</td>\n",
       "    </tr>\n",
       "    <tr>\n",
       "      <th>2006</th>\n",
       "      <td>17</td>\n",
       "      <td>3</td>\n",
       "      <td>0</td>\n",
       "      <td>0</td>\n",
       "    </tr>\n",
       "    <tr>\n",
       "      <th>2007</th>\n",
       "      <td>24</td>\n",
       "      <td>5</td>\n",
       "      <td>0</td>\n",
       "      <td>0</td>\n",
       "    </tr>\n",
       "    <tr>\n",
       "      <th>2008</th>\n",
       "      <td>21</td>\n",
       "      <td>5</td>\n",
       "      <td>2</td>\n",
       "      <td>0</td>\n",
       "    </tr>\n",
       "    <tr>\n",
       "      <th>2009</th>\n",
       "      <td>21</td>\n",
       "      <td>5</td>\n",
       "      <td>1</td>\n",
       "      <td>1</td>\n",
       "    </tr>\n",
       "    <tr>\n",
       "      <th>2010</th>\n",
       "      <td>50</td>\n",
       "      <td>10</td>\n",
       "      <td>0</td>\n",
       "      <td>0</td>\n",
       "    </tr>\n",
       "    <tr>\n",
       "      <th>2011</th>\n",
       "      <td>50</td>\n",
       "      <td>10</td>\n",
       "      <td>1</td>\n",
       "      <td>0</td>\n",
       "    </tr>\n",
       "    <tr>\n",
       "      <th>2012</th>\n",
       "      <td>56</td>\n",
       "      <td>13</td>\n",
       "      <td>1</td>\n",
       "      <td>0</td>\n",
       "    </tr>\n",
       "    <tr>\n",
       "      <th>2013</th>\n",
       "      <td>66</td>\n",
       "      <td>6</td>\n",
       "      <td>1</td>\n",
       "      <td>0</td>\n",
       "    </tr>\n",
       "    <tr>\n",
       "      <th>2014</th>\n",
       "      <td>75</td>\n",
       "      <td>15</td>\n",
       "      <td>0</td>\n",
       "      <td>1</td>\n",
       "    </tr>\n",
       "    <tr>\n",
       "      <th>2015</th>\n",
       "      <td>83</td>\n",
       "      <td>16</td>\n",
       "      <td>1</td>\n",
       "      <td>0</td>\n",
       "    </tr>\n",
       "    <tr>\n",
       "      <th>2016</th>\n",
       "      <td>95</td>\n",
       "      <td>12</td>\n",
       "      <td>0</td>\n",
       "      <td>0</td>\n",
       "    </tr>\n",
       "    <tr>\n",
       "      <th>2017</th>\n",
       "      <td>122</td>\n",
       "      <td>10</td>\n",
       "      <td>1</td>\n",
       "      <td>0</td>\n",
       "    </tr>\n",
       "    <tr>\n",
       "      <th>2018</th>\n",
       "      <td>128</td>\n",
       "      <td>3</td>\n",
       "      <td>0</td>\n",
       "      <td>0</td>\n",
       "    </tr>\n",
       "    <tr>\n",
       "      <th>2019</th>\n",
       "      <td>85</td>\n",
       "      <td>1</td>\n",
       "      <td>0</td>\n",
       "      <td>0</td>\n",
       "    </tr>\n",
       "    <tr>\n",
       "      <th>2020</th>\n",
       "      <td>3</td>\n",
       "      <td>0</td>\n",
       "      <td>0</td>\n",
       "      <td>0</td>\n",
       "    </tr>\n",
       "  </tbody>\n",
       "</table>\n",
       "</div>"
      ],
      "text/plain": [
       "owner  1st owner  2nd owner  3rd owner  4th owner\n",
       "year                                             \n",
       "1988           1          0          0          0\n",
       "1991           1          0          0          0\n",
       "1993           0          1          0          0\n",
       "1995           0          0          1          0\n",
       "1997           2          0          0          0\n",
       "1998           2          0          1          0\n",
       "1999           0          1          0          0\n",
       "2000           4          0          1          1\n",
       "2001           1          1          0          0\n",
       "2002           1          2          0          0\n",
       "2003           1          0          0          0\n",
       "2004           4          1          0          0\n",
       "2005          11          3          0          0\n",
       "2006          17          3          0          0\n",
       "2007          24          5          0          0\n",
       "2008          21          5          2          0\n",
       "2009          21          5          1          1\n",
       "2010          50         10          0          0\n",
       "2011          50         10          1          0\n",
       "2012          56         13          1          0\n",
       "2013          66          6          1          0\n",
       "2014          75         15          0          1\n",
       "2015          83         16          1          0\n",
       "2016          95         12          0          0\n",
       "2017         122         10          1          0\n",
       "2018         128          3          0          0\n",
       "2019          85          1          0          0\n",
       "2020           3          0          0          0"
      ]
     },
     "execution_count": 99,
     "metadata": {},
     "output_type": "execute_result"
    }
   ],
   "source": [
    "# two-way contingency table for owner and year\n",
    "pd.crosstab(df['year'], df['owner'])"
   ]
  },
  {
   "cell_type": "code",
   "execution_count": 92,
   "id": "aa70d548-1ea0-4332-8cad-1b8bec0df9fb",
   "metadata": {},
   "outputs": [
    {
     "data": {
      "image/png": "[encoded data removed]",
      "text/plain": [
       "<Figure size 432x288 with 1 Axes>"
      ]
     },
     "metadata": {
      "needs_background": "light"
     },
     "output_type": "display_data"
    }
   ],
   "source": [
    "plt.hist(df['km_driven'], bins = 100)\n",
    "plt.title('Histogram of km Driven')\n",
    "plt.xlabel('km_driven')\n",
    "plt.show()\n",
    "plt.close()"
   ]
  },
  {
   "cell_type": "code",
   "execution_count": 93,
   "id": "03aa8ca2-c91b-4346-8d83-3dc62d4895c1",
   "metadata": {},
   "outputs": [
    {
     "data": {
      "image/png": "[encoded data removed]",
      "text/plain": [
       "<Figure size 432x288 with 1 Axes>"
      ]
     },
     "metadata": {
      "needs_background": "light"
     },
     "output_type": "display_data"
    }
   ],
   "source": [
    "plt.hist(df[df['km_driven'] < 150000]['km_driven'], bins = 100)\n",
    "plt.title('Histogram of km Driven Less Than 150,000')\n",
    "plt.xlabel('km_driven')\n",
    "plt.show()\n",
    "plt.close()"
   ]
  },
  {
   "cell_type": "markdown",
   "id": "041eef83-7e67-44d0-a2e1-a347e43ae058",
   "metadata": {},
   "source": [
    "## Loss Function"
   ]
  },
  {
   "cell_type": "markdown",
   "id": "8186d40d-fa11-4d63-86b4-0865eb19fd5a",
   "metadata": {},
   "source": [
    "If we want to predict a value of **selling_price**, we need to figure out what a good prediction will be. This is typically done using a loss function. One of the common metrics is the root mean square error (RMSE) for our prediction (c) compared to our true values (y), which is the following equation:\n",
    "$$\n",
    "RMSE(c) = \\sqrt{\\frac{1}{n}\\sum_{i=1}^{n}(y_i-c)^2}\n",
    "$$\n",
    "In the different prediction methods, we want to find the prediction that minimizes this value. "
   ]
  },
  {
   "cell_type": "code",
   "execution_count": 3,
   "id": "739e091f-2458-4850-a53b-90ca1a0adfcc",
   "metadata": {},
   "outputs": [],
   "source": [
    "# calculate the RMSE for a list of predicted and actual y values\n",
    "def rmse(predicted, actual):\n",
    "    return sqrt(np.square(np.subtract(actual, predicted)).mean())"
   ]
  },
  {
   "cell_type": "markdown",
   "id": "1478764b-6947-49f8-a90c-602ffe2b676a",
   "metadata": {},
   "source": [
    "## Grid Search Algorithm"
   ]
  },
  {
   "cell_type": "markdown",
   "id": "dd14fba1-7991-4e0d-b0e6-c687410eb6d4",
   "metadata": {},
   "source": []
  },
  {
   "cell_type": "code",
   "execution_count": 90,
   "id": "c13fc936-9a72-47a4-9af6-88b94e03678b",
   "metadata": {},
   "outputs": [
    {
     "name": "stdout",
     "output_type": "stream",
     "text": [
      "Optimal value: 59638\n"
     ]
    }
   ],
   "source": [
    "# create a grid of values for c based on previous exploratory analysis\n",
    "grid = list(range(18000, 80250, 1))\n",
    "\n",
    "# loop over the grid values and get the rmse for each\n",
    "rmse_values = []\n",
    "for c in grid:\n",
    "    rmse_values.append(rmse(c, df['selling_price']))\n",
    "    \n",
    "# get the index of the smallest RMSE from the list \n",
    "min_index = rmse_values.index(min(rmse_values))\n",
    "\n",
    "# get the value from the grid that has the smallest RMSE\n",
    "print('Optimal value:', grid[min_index])"
   ]
  },
  {
   "cell_type": "code",
   "execution_count": 89,
   "id": "9b0936c0-d755-4070-bdf5-573bc2cbf09a",
   "metadata": {},
   "outputs": [
    {
     "name": "stdout",
     "output_type": "stream",
     "text": [
      "Optimal value: 34360\n"
     ]
    }
   ],
   "source": [
    "# run the algorithm for km_driven to see if this generalizes\n",
    "# create a grid of values for c based on previous exploratory analysis\n",
    "grid = list(range(0, 80000, 1))\n",
    "\n",
    "rmse_values = []\n",
    "for c in grid:\n",
    "    rmse_values.append(rmse(c, df['km_driven']))\n",
    "    \n",
    "# get the index of the smallest RMSE from the list \n",
    "min_index = rmse_values.index(min(rmse_values))\n",
    "\n",
    "# get the value from the grid that has the smallest RMSE\n",
    "print('Optimal value:', grid[min_index])"
   ]
  },
  {
   "cell_type": "markdown",
   "id": "58618e49-0bba-48db-af5b-dddbd2b8a823",
   "metadata": {},
   "source": [
    "## Gradient Descent Algorithm"
   ]
  },
  {
   "cell_type": "markdown",
   "id": "47f7ab35-1990-4104-af35-876690d08b8c",
   "metadata": {},
   "source": []
  },
  {
   "cell_type": "markdown",
   "id": "2fa739ed-68ac-46c5-bd9d-1756cb74b2e6",
   "metadata": {},
   "source": [
    "### Difference Quotient"
   ]
  },
  {
   "cell_type": "code",
   "execution_count": 9,
   "id": "f3bdb086-de2f-44f0-951f-da6039f2a12d",
   "metadata": {},
   "outputs": [],
   "source": [
    "# difference quotient function\n",
    "def diff_quot(predicted, actual, delta):\n",
    "    return (rmse(predicted + delta, actual) - rmse(predicted, actual)) / delta"
   ]
  },
  {
   "cell_type": "code",
   "execution_count": 13,
   "id": "f8e0bd26-e9c5-4128-b483-95de6a346ac4",
   "metadata": {},
   "outputs": [
    {
     "name": "stdout",
     "output_type": "stream",
     "text": [
      "Optimal Value 59626.89391984968\n"
     ]
    }
   ],
   "source": [
    "# use just the y's\n",
    "\n",
    "# initialize values for the predicted value, delta, and step size\n",
    "cur_c = 50000\n",
    "delta = 0.005\n",
    "step_size = 0.5\n",
    "\n",
    "# cap the iterations at 2,000,000 so it doesn't possibly run forever\n",
    "for _ in range(2000000):\n",
    "    # calculate the difference quotient for the current predicted value\n",
    "    diff_quotient = diff_quot(cur_c, df['selling_price'], delta)\n",
    "    # create a new predicted value based on the difference quotient and step size\n",
    "    new_c = cur_c - (diff_quotient * step_size)\n",
    "    # see if the new value is enough of a change to update the predicted value\n",
    "    if abs(new_c - cur_c) < 0.0001:\n",
    "        # if this is true, update the value and stop the loop\n",
    "        cur_c = new_c\n",
    "        break\n",
    "    # update the new value and continue with the loop\n",
    "    cur_c = new_c\n",
    "    \n",
    "print('Optimal Value', cur_c)"
   ]
  },
  {
   "cell_type": "code",
   "execution_count": 11,
   "id": "6050363e-81c0-4f24-ae01-63977b75ca49",
   "metadata": {},
   "outputs": [
    {
     "name": "stdout",
     "output_type": "stream",
     "text": [
      "Optimal Value 34370.15023825297\n"
     ]
    }
   ],
   "source": [
    "# initialize values for the predicted value, delta, and step size\n",
    "cur_c = 50000\n",
    "delta = 0.005\n",
    "step_size = 0.5\n",
    "\n",
    "# cap the iterations at 2,000,000 so it doesn't possibly run forever\n",
    "for _ in range(2000000):\n",
    "    # calculate the difference quotient for the current predicted value\n",
    "    diff_quotient = diff_quot(cur_c, df['km_driven'], delta)\n",
    "    # create a new predicted value based on the difference quotient and step size\n",
    "    new_c = cur_c - (diff_quotient * step_size)\n",
    "    # see if the new value is enough of a change to update the predicted value\n",
    "    if abs(new_c - cur_c) < 0.0001:\n",
    "        # if this is true, update the value and stop the loop\n",
    "        cur_c = new_c\n",
    "        break\n",
    "    # update the new value and continue with the loop\n",
    "    cur_c = new_c\n",
    "    \n",
    "print('Optimal Value', cur_c)"
   ]
  }
 ],
 "metadata": {
  "kernelspec": {
   "display_name": "Python 3 (ipykernel)",
   "language": "python",
   "name": "python3"
  },
  "language_info": {
   "codemirror_mode": {
    "name": "ipython",
    "version": 3
   },
   "file_extension": ".py",
   "mimetype": "text/x-python",
   "name": "python",
   "nbconvert_exporter": "python",
   "pygments_lexer": "ipython3",
   "version": "3.9.6"
  }
 },
 "nbformat": 4,
 "nbformat_minor": 5
}
